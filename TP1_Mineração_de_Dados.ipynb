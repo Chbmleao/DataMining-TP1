{
  "cells": [
    {
      "cell_type": "markdown",
      "metadata": {
        "id": "2z-yJF6TObCw"
      },
      "source": [
        "# **Proposta de Trabalho 1 - Mineração de dados**\n",
        "\n",
        "### **Professor:** Wagner Meira Jr.\n",
        "### **Alunos:** Carlos Henrique Brito Malta Leão | Vinícius Alves de Faria Resende\n",
        "### **Matrículas:** 202103xxxx | 2021039972\n",
        "\n",
        "### **Tema:** ENEM 2022: O Impacto das Características Socioeconômicas no Desempenho dos Candidatos\n",
        "### **Base de dados:** https://www.gov.br/inep/pt-br/acesso-a-informacao/dados-abertos/microdados/enem\n"
      ]
    },
    {
      "cell_type": "code",
      "execution_count": 2,
      "metadata": {
        "id": "EK8yf-vgJqkL"
      },
      "outputs": [],
      "source": [
        "# Bibliotecas usadas no projeto\n",
        "import pandas as pd"
      ]
    },
    {
      "cell_type": "markdown",
      "metadata": {
        "id": "ckPkUM8AJeMl"
      },
      "source": [
        "##**2. Data understanding (Entendimento dos dados)**\n"
      ]
    },
    {
      "cell_type": "code",
      "execution_count": 15,
      "metadata": {
        "id": "j1fDgQ9gJ1EV"
      },
      "outputs": [],
      "source": [
        "# Carregando a base de dados\n",
        "raw_df = pd.read_csv('MICRODADOS_ENEM_2022.csv', encoding='latin-1', sep=';')"
      ]
    },
    {
      "cell_type": "code",
      "execution_count": 24,
      "metadata": {
        "id": "OeLR9RnhOYxk"
      },
      "outputs": [],
      "source": [
        "# Dada as colunas de interesse, selecionamos apenas as colunas que serão usadas no projeto\n",
        "columns_of_interest = ['TP_FAIXA_ETARIA', 'TP_SEXO', 'TP_ESTADO_CIVIL', 'TP_COR_RACA', 'TP_ESCOLA', 'SG_UF_ESC', 'TP_DEPENDENCIA_ADM_ESC', 'TP_LOCALIZACAO_ESC','TP_PRESENCA_CN', 'TP_PRESENCA_CH', 'TP_PRESENCA_LC', 'TP_PRESENCA_MT', 'NU_NOTA_CN', 'NU_NOTA_CH', 'NU_NOTA_LC', 'NU_NOTA_MT', 'TP_STATUS_REDACAO', 'NU_NOTA_REDACAO', 'Q001', 'Q002', 'Q003', 'Q004', 'Q005', 'Q006', 'Q007', 'Q008', 'Q009', 'Q010', 'Q011', 'Q012', 'Q013', 'Q014', 'Q015', 'Q016', 'Q017', 'Q018', 'Q019', 'Q020', 'Q021', 'Q022', 'Q023', 'Q024', 'Q025']\n",
        "\n",
        "DF = raw_df.filter(columns_of_interest)"
      ]
    },
    {
      "cell_type": "code",
      "execution_count": null,
      "metadata": {},
      "outputs": [],
      "source": []
    },
    {
      "cell_type": "markdown",
      "metadata": {
        "id": "YBK0Ro38J8kF"
      },
      "source": [
        "##**3. Data preparation (Preparação dos dados)**"
      ]
    },
    {
      "cell_type": "code",
      "execution_count": null,
      "metadata": {
        "id": "zfo1D18BOXzl"
      },
      "outputs": [],
      "source": []
    },
    {
      "cell_type": "markdown",
      "metadata": {
        "id": "AjlBKt3FKJhA"
      },
      "source": [
        "##**4. Modeling (Modelagem)**"
      ]
    },
    {
      "cell_type": "markdown",
      "metadata": {
        "id": "T4u-bKwrKOOv"
      },
      "source": [
        "\n",
        "1.   Explicar brevemente como você elaborou o modelo para o seus dados.\n",
        "2.   Se a intenção for fazer uma análise comparativa entre algorimtmos criar células markdown ou comentários explicitando onde começa o código referente a cada algoritmo.\n",
        "3. Explicar (quando pertinente) o fluxo de dados, ou seja como você organizou os dados em treino e teste, como foi o ajuste de parâmetros e eventuais decisões de projeto referentes a modelagem de dados. **Que ajudem a compreender o código.**\n",
        "\n",
        "O relatório deverá conter essas informações, mas sob a **perspectiva do projeto de dados**"
      ]
    },
    {
      "cell_type": "code",
      "execution_count": null,
      "metadata": {
        "id": "P_YEjbzyOXC9"
      },
      "outputs": [],
      "source": []
    },
    {
      "cell_type": "markdown",
      "metadata": {
        "id": "F1UAOjMXMfrg"
      },
      "source": [
        "##**5. Evaluation (Validação)**\n"
      ]
    },
    {
      "cell_type": "code",
      "execution_count": null,
      "metadata": {
        "id": "g37UqSQCOWX8"
      },
      "outputs": [],
      "source": []
    },
    {
      "cell_type": "markdown",
      "metadata": {
        "id": "xaQyUkiBNDJ3"
      },
      "source": [
        "**Prevenção de falhas**\n",
        "(Opcional)\n",
        "\n",
        "\n",
        "Se o seu dataset for muito grande ou muito grande, ou for muito custoso rodar os algoritmos é indicado que tenha uma célula na qual os resultados parciais possam ser salvos. Evitando, assim ter que re-rodar os algoritmos novamente."
      ]
    }
  ],
  "metadata": {
    "colab": {
      "provenance": []
    },
    "kernelspec": {
      "display_name": "Python 3",
      "name": "python3"
    },
    "language_info": {
      "codemirror_mode": {
        "name": "ipython",
        "version": 3
      },
      "file_extension": ".py",
      "mimetype": "text/x-python",
      "name": "python",
      "nbconvert_exporter": "python",
      "pygments_lexer": "ipython3",
      "version": "3.10.12"
    }
  },
  "nbformat": 4,
  "nbformat_minor": 0
}
