{
  "cells": [
    {
      "cell_type": "markdown",
      "metadata": {
        "id": "2z-yJF6TObCw"
      },
      "source": [
        "# **Proposta de Trabalho 1 - Mineração de dados**\n",
        "\n",
        "### **Professor:** Wagner Meira Jr.\n",
        "### **Alunos:** Carlos Henrique Brito Malta Leão | Vinícius Alves de Faria Resende\n",
        "### **Matrículas:** 202103xxxx | 2021039972\n",
        "\n",
        "### **Tema:** ENEM 2022: O Impacto das Características Socioeconômicas no Desempenho dos Candidatos\n",
        "### **Base de dados:** https://www.gov.br/inep/pt-br/acesso-a-informacao/dados-abertos/microdados/enem\n"
      ]
    },
    {
      "cell_type": "code",
      "execution_count": 2,
      "metadata": {
        "id": "EK8yf-vgJqkL"
      },
      "outputs": [],
      "source": [
        "# Bibliotecas usadas no projeto\n",
        "import pandas as pd\n",
        "import matplotlib.pyplot as plt"
      ]
    },
    {
      "cell_type": "markdown",
      "metadata": {
        "id": "ckPkUM8AJeMl"
      },
      "source": [
        "##**2. Data understanding (Entendimento dos dados)**\n"
      ]
    },
    {
      "cell_type": "code",
      "execution_count": 3,
      "metadata": {
        "id": "j1fDgQ9gJ1EV"
      },
      "outputs": [],
      "source": [
        "# Carregando a base de dados\n",
        "raw_df = pd.read_csv('MICRODADOS_ENEM_2022.csv', encoding='latin-1', sep=';')"
      ]
    },
    {
      "cell_type": "code",
      "execution_count": 4,
      "metadata": {
        "id": "OeLR9RnhOYxk"
      },
      "outputs": [],
      "source": [
        "# Dada as colunas de interesse, selecionamos apenas as colunas que serão usadas no projeto\n",
        "columns_of_interest = ['TP_FAIXA_ETARIA', 'TP_SEXO', 'TP_ESTADO_CIVIL', 'TP_COR_RACA', 'TP_ESCOLA', 'SG_UF_ESC', 'TP_DEPENDENCIA_ADM_ESC', 'TP_LOCALIZACAO_ESC','TP_PRESENCA_CN', 'TP_PRESENCA_CH', 'TP_PRESENCA_LC', 'TP_PRESENCA_MT', 'NU_NOTA_CN', 'NU_NOTA_CH', 'NU_NOTA_LC', 'NU_NOTA_MT', 'TP_STATUS_REDACAO', 'NU_NOTA_REDACAO', 'Q001', 'Q002', 'Q003', 'Q004', 'Q005', 'Q006', 'Q007', 'Q008', 'Q009', 'Q010', 'Q011', 'Q012', 'Q013', 'Q014', 'Q015', 'Q016', 'Q017', 'Q018', 'Q019', 'Q020', 'Q021', 'Q022', 'Q023', 'Q024', 'Q025']\n",
        "\n",
        "DF = raw_df.filter(columns_of_interest)"
      ]
    },
    {
      "cell_type": "code",
      "execution_count": 5,
      "metadata": {},
      "outputs": [],
      "source": [
        "# Adiciona uma coluna com a média das notas de cada participante\n",
        "DF['NU_NOTA_MEDIA'] = (DF['NU_NOTA_CN'] + DF['NU_NOTA_CH'] + DF['NU_NOTA_LC'] + DF['NU_NOTA_MT'] + DF['NU_NOTA_REDACAO']) / 5"
      ]
    },
    {
      "cell_type": "code",
      "execution_count": 10,
      "metadata": {},
      "outputs": [
        {
          "data": {
            "image/png": "[encoded data removed]",
            "text/plain": [
              "<Figure size 640x480 with 1 Axes>"
            ]
          },
          "metadata": {},
          "output_type": "display_data"
        }
      ],
      "source": [
        "# Exibe a distribuição das notas médias\n",
        "\n",
        "filtered_df = DF[DF['NU_NOTA_MEDIA'].notna()]\n",
        "grade_counts = filtered_df['NU_NOTA_MEDIA'].round().astype(int).value_counts().sort_index()\n",
        "plt.bar(grade_counts.index, grade_counts.values)\n",
        "\n",
        "plt.xlabel('Rounded Grade')\n",
        "plt.ylabel('Frequency')\n",
        "plt.title('Frequency of Rounded Median Grades')\n",
        "\n",
        "plt.show()"
      ]
    },
    {
      "cell_type": "code",
      "execution_count": 37,
      "metadata": {},
      "outputs": [
        {
          "name": "stdout",
          "output_type": "stream",
          "text": [
            "Nota de corte do top 1%: 750.0\n",
            "Nota de corte do top 25%: 602.0\n",
            "Nota de corte do top 50%: 541.0\n",
            "Nota de corte do top 75%: 485.0\n",
            "Nota de corte do top 100%: 56.0\n"
          ]
        }
      ],
      "source": [
        "# Encontra a nota de corte das segmentações pré definidas\n",
        "top_1_percent_grade = filtered_df['NU_NOTA_MEDIA'].round().quantile(0.99)\n",
        "print('Nota de corte do top 1%: ' + str(top_1_percent_grade))\n",
        "\n",
        "top_25_percent_grade = filtered_df['NU_NOTA_MEDIA'].round().quantile(0.75)\n",
        "print('Nota de corte do top 25%: ' + str(top_25_percent_grade))\n",
        "\n",
        "top_50_percent_grade = filtered_df['NU_NOTA_MEDIA'].round().quantile(0.5)\n",
        "print('Nota de corte do top 50%: ' + str(top_50_percent_grade))\n",
        "\n",
        "top_75_percent_grade = filtered_df['NU_NOTA_MEDIA'].round().quantile(0.25)\n",
        "print('Nota de corte do top 75%: ' + str(top_75_percent_grade))\n",
        "\n",
        "lowest_valid_grade = filtered_df['NU_NOTA_MEDIA'].round().loc[lambda x: x > 0].min()\n",
        "print(\"Nota de corte do top 100%: \" + str(lowest_valid_grade))"
      ]
    },
    {
      "cell_type": "code",
      "execution_count": 38,
      "metadata": {},
      "outputs": [],
      "source": [
        "# Adiciona uma coluna com o valor categórico de acordo com a nota média\n",
        "\n",
        "# A -> 1%\n",
        "# B -> 2% - 25%\n",
        "# C -> 26% - 50%\n",
        "# D -> 51% - 75%\n",
        "# E -> 76% - 100%\n",
        "\n",
        "def map_num_grade_to_categorical(grade):\n",
        "  if grade >= top_1_percent_grade:\n",
        "    return 'A'\n",
        "  elif grade >= top_25_percent_grade:\n",
        "    return 'B'\n",
        "  elif grade >= top_50_percent_grade:\n",
        "    return 'C'\n",
        "  elif grade >= top_75_percent_grade:\n",
        "    return 'D'\n",
        "  elif grade >= lowest_valid_grade:\n",
        "    return 'E'\n",
        "  else:\n",
        "    return 'F'\n",
        "\n",
        "DF['TP_NOTA_MEDIA'] = DF['NU_NOTA_MEDIA'].round().apply(map_num_grade_to_categorical)\n"
      ]
    },
    {
      "cell_type": "code",
      "execution_count": 39,
      "metadata": {},
      "outputs": [
        {
          "data": {
            "image/png": "[encoded data removed]",
            "text/plain": [
              "<Figure size 640x480 with 1 Axes>"
            ]
          },
          "metadata": {},
          "output_type": "display_data"
        }
      ],
      "source": [
        "# Exibe a distribuição das classificações de notas\n",
        "\n",
        "grade_counts = DF['TP_NOTA_MEDIA'].value_counts().sort_index()\n",
        "plt.bar(grade_counts.index, grade_counts.values)\n",
        "\n",
        "plt.xlabel('Classificação de Nota')\n",
        "plt.ylabel('Frequência')\n",
        "plt.title('Frequência de Classificação de Nota')\n",
        "\n",
        "plt.show()"
      ]
    },
    {
      "cell_type": "markdown",
      "metadata": {
        "id": "YBK0Ro38J8kF"
      },
      "source": [
        "##**3. Data preparation (Preparação dos dados)**"
      ]
    },
    {
      "cell_type": "code",
      "execution_count": null,
      "metadata": {
        "id": "zfo1D18BOXzl"
      },
      "outputs": [],
      "source": []
    },
    {
      "cell_type": "markdown",
      "metadata": {
        "id": "AjlBKt3FKJhA"
      },
      "source": [
        "##**4. Modeling (Modelagem)**"
      ]
    },
    {
      "cell_type": "markdown",
      "metadata": {
        "id": "T4u-bKwrKOOv"
      },
      "source": [
        "\n",
        "1.   Explicar brevemente como você elaborou o modelo para o seus dados.\n",
        "2.   Se a intenção for fazer uma análise comparativa entre algorimtmos criar células markdown ou comentários explicitando onde começa o código referente a cada algoritmo.\n",
        "3. Explicar (quando pertinente) o fluxo de dados, ou seja como você organizou os dados em treino e teste, como foi o ajuste de parâmetros e eventuais decisões de projeto referentes a modelagem de dados. **Que ajudem a compreender o código.**\n",
        "\n",
        "O relatório deverá conter essas informações, mas sob a **perspectiva do projeto de dados**"
      ]
    },
    {
      "cell_type": "code",
      "execution_count": null,
      "metadata": {
        "id": "P_YEjbzyOXC9"
      },
      "outputs": [],
      "source": []
    },
    {
      "cell_type": "markdown",
      "metadata": {
        "id": "F1UAOjMXMfrg"
      },
      "source": [
        "##**5. Evaluation (Validação)**\n"
      ]
    },
    {
      "cell_type": "code",
      "execution_count": null,
      "metadata": {
        "id": "g37UqSQCOWX8"
      },
      "outputs": [],
      "source": []
    },
    {
      "cell_type": "markdown",
      "metadata": {
        "id": "xaQyUkiBNDJ3"
      },
      "source": [
        "**Prevenção de falhas**\n",
        "(Opcional)\n",
        "\n",
        "\n",
        "Se o seu dataset for muito grande ou muito grande, ou for muito custoso rodar os algoritmos é indicado que tenha uma célula na qual os resultados parciais possam ser salvos. Evitando, assim ter que re-rodar os algoritmos novamente."
      ]
    }
  ],
  "metadata": {
    "colab": {
      "provenance": []
    },
    "kernelspec": {
      "display_name": "Python 3",
      "name": "python3"
    },
    "language_info": {
      "codemirror_mode": {
        "name": "ipython",
        "version": 3
      },
      "file_extension": ".py",
      "mimetype": "text/x-python",
      "name": "python",
      "nbconvert_exporter": "python",
      "pygments_lexer": "ipython3",
      "version": "3.10.12"
    }
  },
  "nbformat": 4,
  "nbformat_minor": 0
}
